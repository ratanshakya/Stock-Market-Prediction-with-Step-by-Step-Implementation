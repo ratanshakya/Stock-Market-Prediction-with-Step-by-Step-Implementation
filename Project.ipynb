{
 "cells": [
  {
   "cell_type": "code",
   "execution_count": 33,
   "id": "eac6d7a7",
   "metadata": {},
   "outputs": [],
   "source": [
    "import pandas as pd\n",
    "import numpy as np\n",
    "import matplotlib.pyplot as plt"
   ]
  },
  {
   "cell_type": "code",
   "execution_count": 34,
   "id": "66c394c0",
   "metadata": {},
   "outputs": [
    {
     "data": {
      "text/html": [
       "<div>\n",
       "<style scoped>\n",
       "    .dataframe tbody tr th:only-of-type {\n",
       "        vertical-align: middle;\n",
       "    }\n",
       "\n",
       "    .dataframe tbody tr th {\n",
       "        vertical-align: top;\n",
       "    }\n",
       "\n",
       "    .dataframe thead th {\n",
       "        text-align: right;\n",
       "    }\n",
       "</style>\n",
       "<table border=\"1\" class=\"dataframe\">\n",
       "  <thead>\n",
       "    <tr style=\"text-align: right;\">\n",
       "      <th></th>\n",
       "      <th>Date</th>\n",
       "      <th>Open</th>\n",
       "      <th>High</th>\n",
       "      <th>Low</th>\n",
       "      <th>Last</th>\n",
       "      <th>Close</th>\n",
       "      <th>Total Trade Quantity</th>\n",
       "      <th>Turnover (Lacs)</th>\n",
       "    </tr>\n",
       "  </thead>\n",
       "  <tbody>\n",
       "    <tr>\n",
       "      <th>0</th>\n",
       "      <td>2018-12-03</td>\n",
       "      <td>1984.00</td>\n",
       "      <td>1990.00</td>\n",
       "      <td>1968.30</td>\n",
       "      <td>1984.00</td>\n",
       "      <td>1982.40</td>\n",
       "      <td>1610576.0</td>\n",
       "      <td>31868.00</td>\n",
       "    </tr>\n",
       "    <tr>\n",
       "      <th>1</th>\n",
       "      <td>2018-12-04</td>\n",
       "      <td>1983.00</td>\n",
       "      <td>2019.40</td>\n",
       "      <td>1971.00</td>\n",
       "      <td>2009.85</td>\n",
       "      <td>2010.85</td>\n",
       "      <td>3270615.0</td>\n",
       "      <td>65568.23</td>\n",
       "    </tr>\n",
       "    <tr>\n",
       "      <th>2</th>\n",
       "      <td>2018-12-05</td>\n",
       "      <td>2006.00</td>\n",
       "      <td>2018.00</td>\n",
       "      <td>1985.00</td>\n",
       "      <td>2003.90</td>\n",
       "      <td>2006.75</td>\n",
       "      <td>2501539.0</td>\n",
       "      <td>50131.23</td>\n",
       "    </tr>\n",
       "    <tr>\n",
       "      <th>3</th>\n",
       "      <td>2018-12-06</td>\n",
       "      <td>1998.00</td>\n",
       "      <td>2017.00</td>\n",
       "      <td>1979.60</td>\n",
       "      <td>1990.00</td>\n",
       "      <td>1992.70</td>\n",
       "      <td>2321216.0</td>\n",
       "      <td>46373.71</td>\n",
       "    </tr>\n",
       "    <tr>\n",
       "      <th>4</th>\n",
       "      <td>2018-12-07</td>\n",
       "      <td>1985.05</td>\n",
       "      <td>2003.90</td>\n",
       "      <td>1973.00</td>\n",
       "      <td>1999.85</td>\n",
       "      <td>1995.20</td>\n",
       "      <td>1680420.0</td>\n",
       "      <td>33463.26</td>\n",
       "    </tr>\n",
       "    <tr>\n",
       "      <th>5</th>\n",
       "      <td>2018-12-10</td>\n",
       "      <td>1975.00</td>\n",
       "      <td>2011.00</td>\n",
       "      <td>1960.00</td>\n",
       "      <td>1961.00</td>\n",
       "      <td>1975.80</td>\n",
       "      <td>2010786.0</td>\n",
       "      <td>39990.73</td>\n",
       "    </tr>\n",
       "    <tr>\n",
       "      <th>6</th>\n",
       "      <td>2018-12-11</td>\n",
       "      <td>1970.00</td>\n",
       "      <td>2010.00</td>\n",
       "      <td>1961.00</td>\n",
       "      <td>1997.05</td>\n",
       "      <td>2000.00</td>\n",
       "      <td>2942014.0</td>\n",
       "      <td>58636.26</td>\n",
       "    </tr>\n",
       "    <tr>\n",
       "      <th>7</th>\n",
       "      <td>2018-12-12</td>\n",
       "      <td>2001.10</td>\n",
       "      <td>2022.00</td>\n",
       "      <td>1984.95</td>\n",
       "      <td>2016.50</td>\n",
       "      <td>2016.80</td>\n",
       "      <td>2219993.0</td>\n",
       "      <td>44663.42</td>\n",
       "    </tr>\n",
       "    <tr>\n",
       "      <th>8</th>\n",
       "      <td>2018-12-13</td>\n",
       "      <td>2024.00</td>\n",
       "      <td>2029.70</td>\n",
       "      <td>1974.50</td>\n",
       "      <td>1981.95</td>\n",
       "      <td>1982.60</td>\n",
       "      <td>3748429.0</td>\n",
       "      <td>74802.38</td>\n",
       "    </tr>\n",
       "    <tr>\n",
       "      <th>9</th>\n",
       "      <td>2018-12-14</td>\n",
       "      <td>1983.00</td>\n",
       "      <td>1998.95</td>\n",
       "      <td>1975.25</td>\n",
       "      <td>1989.00</td>\n",
       "      <td>1989.75</td>\n",
       "      <td>2473761.0</td>\n",
       "      <td>49094.42</td>\n",
       "    </tr>\n",
       "    <tr>\n",
       "      <th>10</th>\n",
       "      <td>2018-12-17</td>\n",
       "      <td>1999.00</td>\n",
       "      <td>2004.90</td>\n",
       "      <td>1985.00</td>\n",
       "      <td>1992.90</td>\n",
       "      <td>1994.30</td>\n",
       "      <td>1227921.0</td>\n",
       "      <td>24482.95</td>\n",
       "    </tr>\n",
       "    <tr>\n",
       "      <th>11</th>\n",
       "      <td>2018-12-18</td>\n",
       "      <td>1991.90</td>\n",
       "      <td>2002.00</td>\n",
       "      <td>1976.40</td>\n",
       "      <td>1987.90</td>\n",
       "      <td>1987.85</td>\n",
       "      <td>1768742.0</td>\n",
       "      <td>35137.11</td>\n",
       "    </tr>\n",
       "    <tr>\n",
       "      <th>12</th>\n",
       "      <td>2018-12-19</td>\n",
       "      <td>1984.80</td>\n",
       "      <td>1984.80</td>\n",
       "      <td>1960.05</td>\n",
       "      <td>1970.80</td>\n",
       "      <td>1968.45</td>\n",
       "      <td>2498833.0</td>\n",
       "      <td>49198.05</td>\n",
       "    </tr>\n",
       "    <tr>\n",
       "      <th>13</th>\n",
       "      <td>2018-12-20</td>\n",
       "      <td>1953.80</td>\n",
       "      <td>1974.90</td>\n",
       "      <td>1946.00</td>\n",
       "      <td>1955.00</td>\n",
       "      <td>1954.05</td>\n",
       "      <td>1940277.0</td>\n",
       "      <td>37945.10</td>\n",
       "    </tr>\n",
       "    <tr>\n",
       "      <th>14</th>\n",
       "      <td>2018-12-21</td>\n",
       "      <td>1948.00</td>\n",
       "      <td>1950.00</td>\n",
       "      <td>1886.55</td>\n",
       "      <td>1905.00</td>\n",
       "      <td>1895.80</td>\n",
       "      <td>3729956.0</td>\n",
       "      <td>71360.52</td>\n",
       "    </tr>\n",
       "    <tr>\n",
       "      <th>15</th>\n",
       "      <td>2018-12-24</td>\n",
       "      <td>1905.80</td>\n",
       "      <td>1938.90</td>\n",
       "      <td>1905.00</td>\n",
       "      <td>1922.00</td>\n",
       "      <td>1918.50</td>\n",
       "      <td>1864116.0</td>\n",
       "      <td>35878.57</td>\n",
       "    </tr>\n",
       "    <tr>\n",
       "      <th>16</th>\n",
       "      <td>2018-12-26</td>\n",
       "      <td>1921.80</td>\n",
       "      <td>1921.80</td>\n",
       "      <td>1870.25</td>\n",
       "      <td>1892.00</td>\n",
       "      <td>1889.20</td>\n",
       "      <td>2446614.0</td>\n",
       "      <td>46112.98</td>\n",
       "    </tr>\n",
       "    <tr>\n",
       "      <th>17</th>\n",
       "      <td>2018-12-27</td>\n",
       "      <td>1909.00</td>\n",
       "      <td>1941.70</td>\n",
       "      <td>1872.10</td>\n",
       "      <td>1909.10</td>\n",
       "      <td>1908.95</td>\n",
       "      <td>4968201.0</td>\n",
       "      <td>95411.46</td>\n",
       "    </tr>\n",
       "    <tr>\n",
       "      <th>18</th>\n",
       "      <td>2018-12-28</td>\n",
       "      <td>1915.00</td>\n",
       "      <td>1920.00</td>\n",
       "      <td>1893.00</td>\n",
       "      <td>1897.00</td>\n",
       "      <td>1896.05</td>\n",
       "      <td>2239130.0</td>\n",
       "      <td>42708.38</td>\n",
       "    </tr>\n",
       "    <tr>\n",
       "      <th>19</th>\n",
       "      <td>2018-12-31</td>\n",
       "      <td>1908.00</td>\n",
       "      <td>1909.00</td>\n",
       "      <td>1886.15</td>\n",
       "      <td>1894.75</td>\n",
       "      <td>1893.05</td>\n",
       "      <td>1879740.0</td>\n",
       "      <td>35647.72</td>\n",
       "    </tr>\n",
       "  </tbody>\n",
       "</table>\n",
       "</div>"
      ],
      "text/plain": [
       "          Date     Open     High      Low     Last    Close  \\\n",
       "0   2018-12-03  1984.00  1990.00  1968.30  1984.00  1982.40   \n",
       "1   2018-12-04  1983.00  2019.40  1971.00  2009.85  2010.85   \n",
       "2   2018-12-05  2006.00  2018.00  1985.00  2003.90  2006.75   \n",
       "3   2018-12-06  1998.00  2017.00  1979.60  1990.00  1992.70   \n",
       "4   2018-12-07  1985.05  2003.90  1973.00  1999.85  1995.20   \n",
       "5   2018-12-10  1975.00  2011.00  1960.00  1961.00  1975.80   \n",
       "6   2018-12-11  1970.00  2010.00  1961.00  1997.05  2000.00   \n",
       "7   2018-12-12  2001.10  2022.00  1984.95  2016.50  2016.80   \n",
       "8   2018-12-13  2024.00  2029.70  1974.50  1981.95  1982.60   \n",
       "9   2018-12-14  1983.00  1998.95  1975.25  1989.00  1989.75   \n",
       "10  2018-12-17  1999.00  2004.90  1985.00  1992.90  1994.30   \n",
       "11  2018-12-18  1991.90  2002.00  1976.40  1987.90  1987.85   \n",
       "12  2018-12-19  1984.80  1984.80  1960.05  1970.80  1968.45   \n",
       "13  2018-12-20  1953.80  1974.90  1946.00  1955.00  1954.05   \n",
       "14  2018-12-21  1948.00  1950.00  1886.55  1905.00  1895.80   \n",
       "15  2018-12-24  1905.80  1938.90  1905.00  1922.00  1918.50   \n",
       "16  2018-12-26  1921.80  1921.80  1870.25  1892.00  1889.20   \n",
       "17  2018-12-27  1909.00  1941.70  1872.10  1909.10  1908.95   \n",
       "18  2018-12-28  1915.00  1920.00  1893.00  1897.00  1896.05   \n",
       "19  2018-12-31  1908.00  1909.00  1886.15  1894.75  1893.05   \n",
       "\n",
       "    Total Trade Quantity  Turnover (Lacs)  \n",
       "0              1610576.0         31868.00  \n",
       "1              3270615.0         65568.23  \n",
       "2              2501539.0         50131.23  \n",
       "3              2321216.0         46373.71  \n",
       "4              1680420.0         33463.26  \n",
       "5              2010786.0         39990.73  \n",
       "6              2942014.0         58636.26  \n",
       "7              2219993.0         44663.42  \n",
       "8              3748429.0         74802.38  \n",
       "9              2473761.0         49094.42  \n",
       "10             1227921.0         24482.95  \n",
       "11             1768742.0         35137.11  \n",
       "12             2498833.0         49198.05  \n",
       "13             1940277.0         37945.10  \n",
       "14             3729956.0         71360.52  \n",
       "15             1864116.0         35878.57  \n",
       "16             2446614.0         46112.98  \n",
       "17             4968201.0         95411.46  \n",
       "18             2239130.0         42708.38  \n",
       "19             1879740.0         35647.72  "
      ]
     },
     "execution_count": 34,
     "metadata": {},
     "output_type": "execute_result"
    }
   ],
   "source": [
    "dataset = pd.read_csv('tcs.csv')\n",
    "dataset"
   ]
  },
  {
   "cell_type": "code",
   "execution_count": 35,
   "id": "f9de2915",
   "metadata": {},
   "outputs": [
    {
     "name": "stdout",
     "output_type": "stream",
     "text": [
      "<class 'pandas.core.frame.DataFrame'>\n",
      "RangeIndex: 20 entries, 0 to 19\n",
      "Data columns (total 8 columns):\n",
      " #   Column                Non-Null Count  Dtype  \n",
      "---  ------                --------------  -----  \n",
      " 0   Date                  20 non-null     object \n",
      " 1   Open                  20 non-null     float64\n",
      " 2   High                  20 non-null     float64\n",
      " 3   Low                   20 non-null     float64\n",
      " 4   Last                  20 non-null     float64\n",
      " 5   Close                 20 non-null     float64\n",
      " 6   Total Trade Quantity  20 non-null     float64\n",
      " 7   Turnover (Lacs)       20 non-null     float64\n",
      "dtypes: float64(7), object(1)\n",
      "memory usage: 1.4+ KB\n"
     ]
    }
   ],
   "source": [
    "dataset.info()"
   ]
  },
  {
   "cell_type": "code",
   "execution_count": 36,
   "id": "d63c1862",
   "metadata": {},
   "outputs": [],
   "source": [
    "dataset['Date'] = pd.to_datetime(dataset.Date)\n"
   ]
  },
  {
   "cell_type": "code",
   "execution_count": 16,
   "id": "fde8228e",
   "metadata": {},
   "outputs": [
    {
     "data": {
      "text/html": [
       "<div>\n",
       "<style scoped>\n",
       "    .dataframe tbody tr th:only-of-type {\n",
       "        vertical-align: middle;\n",
       "    }\n",
       "\n",
       "    .dataframe tbody tr th {\n",
       "        vertical-align: top;\n",
       "    }\n",
       "\n",
       "    .dataframe thead th {\n",
       "        text-align: right;\n",
       "    }\n",
       "</style>\n",
       "<table border=\"1\" class=\"dataframe\">\n",
       "  <thead>\n",
       "    <tr style=\"text-align: right;\">\n",
       "      <th></th>\n",
       "      <th>Date:year</th>\n",
       "      <th>Date:month</th>\n",
       "      <th>Date:day</th>\n",
       "    </tr>\n",
       "  </thead>\n",
       "  <tbody>\n",
       "    <tr>\n",
       "      <th>0</th>\n",
       "      <td>2018</td>\n",
       "      <td>12</td>\n",
       "      <td>3</td>\n",
       "    </tr>\n",
       "    <tr>\n",
       "      <th>1</th>\n",
       "      <td>2018</td>\n",
       "      <td>12</td>\n",
       "      <td>4</td>\n",
       "    </tr>\n",
       "    <tr>\n",
       "      <th>2</th>\n",
       "      <td>2018</td>\n",
       "      <td>12</td>\n",
       "      <td>5</td>\n",
       "    </tr>\n",
       "    <tr>\n",
       "      <th>3</th>\n",
       "      <td>2018</td>\n",
       "      <td>12</td>\n",
       "      <td>6</td>\n",
       "    </tr>\n",
       "    <tr>\n",
       "      <th>4</th>\n",
       "      <td>2018</td>\n",
       "      <td>12</td>\n",
       "      <td>7</td>\n",
       "    </tr>\n",
       "  </tbody>\n",
       "</table>\n",
       "</div>"
      ],
      "text/plain": [
       "   Date:year  Date:month  Date:day\n",
       "0       2018          12         3\n",
       "1       2018          12         4\n",
       "2       2018          12         5\n",
       "3       2018          12         6\n",
       "4       2018          12         7"
      ]
     },
     "execution_count": 16,
     "metadata": {},
     "output_type": "execute_result"
    }
   ],
   "source": [
    "dataset['Date:year'] = dataset['Date'].dt.year\n",
    "dataset['Date:month'] = dataset['Date'].dt.month\n",
    "dataset['Date:day'] = dataset['Date'].dt.day\n",
    "dataset[['Date:year','Date:month','Date:day']].head()"
   ]
  },
  {
   "cell_type": "code",
   "execution_count": 17,
   "id": "db8e523c",
   "metadata": {},
   "outputs": [
    {
     "data": {
      "text/plain": [
       "Index(['Date', 'Open', 'High', 'Low', 'Last', 'Close', 'Total Trade Quantity',\n",
       "       'Turnover (Lacs)', 'Date:year', 'Date:month', 'Date:day'],\n",
       "      dtype='object')"
      ]
     },
     "execution_count": 17,
     "metadata": {},
     "output_type": "execute_result"
    }
   ],
   "source": [
    "dataset.columns"
   ]
  },
  {
   "cell_type": "code",
   "execution_count": 18,
   "id": "8c20a372",
   "metadata": {},
   "outputs": [],
   "source": [
    " y = dataset['Turnover (Lacs)']"
   ]
  },
  {
   "cell_type": "code",
   "execution_count": 19,
   "id": "2e4e6a9f",
   "metadata": {},
   "outputs": [
    {
     "data": {
      "text/plain": [
       "(20, 7)"
      ]
     },
     "execution_count": 19,
     "metadata": {},
     "output_type": "execute_result"
    }
   ],
   "source": [
    "x = dataset[['Open', 'High', 'Low', 'Last', 'Close', 'Total Trade Quantity', 'Date:day']]\n",
    "x.shape"
   ]
  },
  {
   "cell_type": "code",
   "execution_count": 20,
   "id": "6187036c",
   "metadata": {},
   "outputs": [
    {
     "name": "stdout",
     "output_type": "stream",
     "text": [
      "       Open     High      Low     Last    Close  Total Trade Quantity  \\\n",
      "0   1984.00  1990.00  1968.30  1984.00  1982.40             1610576.0   \n",
      "1   1983.00  2019.40  1971.00  2009.85  2010.85             3270615.0   \n",
      "2   2006.00  2018.00  1985.00  2003.90  2006.75             2501539.0   \n",
      "3   1998.00  2017.00  1979.60  1990.00  1992.70             2321216.0   \n",
      "4   1985.05  2003.90  1973.00  1999.85  1995.20             1680420.0   \n",
      "5   1975.00  2011.00  1960.00  1961.00  1975.80             2010786.0   \n",
      "6   1970.00  2010.00  1961.00  1997.05  2000.00             2942014.0   \n",
      "7   2001.10  2022.00  1984.95  2016.50  2016.80             2219993.0   \n",
      "8   2024.00  2029.70  1974.50  1981.95  1982.60             3748429.0   \n",
      "9   1983.00  1998.95  1975.25  1989.00  1989.75             2473761.0   \n",
      "10  1999.00  2004.90  1985.00  1992.90  1994.30             1227921.0   \n",
      "11  1991.90  2002.00  1976.40  1987.90  1987.85             1768742.0   \n",
      "12  1984.80  1984.80  1960.05  1970.80  1968.45             2498833.0   \n",
      "13  1953.80  1974.90  1946.00  1955.00  1954.05             1940277.0   \n",
      "14  1948.00  1950.00  1886.55  1905.00  1895.80             3729956.0   \n",
      "15  1905.80  1938.90  1905.00  1922.00  1918.50             1864116.0   \n",
      "16  1921.80  1921.80  1870.25  1892.00  1889.20             2446614.0   \n",
      "17  1909.00  1941.70  1872.10  1909.10  1908.95             4968201.0   \n",
      "18  1915.00  1920.00  1893.00  1897.00  1896.05             2239130.0   \n",
      "19  1908.00  1909.00  1886.15  1894.75  1893.05             1879740.0   \n",
      "\n",
      "    Date:day  \n",
      "0          3  \n",
      "1          4  \n",
      "2          5  \n",
      "3          6  \n",
      "4          7  \n",
      "5         10  \n",
      "6         11  \n",
      "7         12  \n",
      "8         13  \n",
      "9         14  \n",
      "10        17  \n",
      "11        18  \n",
      "12        19  \n",
      "13        20  \n",
      "14        21  \n",
      "15        24  \n",
      "16        26  \n",
      "17        27  \n",
      "18        28  \n",
      "19        31  \n"
     ]
    }
   ],
   "source": [
    "print(x)"
   ]
  },
  {
   "cell_type": "code",
   "execution_count": 21,
   "id": "9f79a192",
   "metadata": {},
   "outputs": [],
   "source": [
    "from sklearn.model_selection import train_test_split\n",
    "X_train, X_test, y_train, y_test = train_test_split(x, y, test_size=0.10,)\n"
   ]
  },
  {
   "cell_type": "code",
   "execution_count": 22,
   "id": "5c68326b",
   "metadata": {},
   "outputs": [
    {
     "data": {
      "text/html": [
       "<div>\n",
       "<style scoped>\n",
       "    .dataframe tbody tr th:only-of-type {\n",
       "        vertical-align: middle;\n",
       "    }\n",
       "\n",
       "    .dataframe tbody tr th {\n",
       "        vertical-align: top;\n",
       "    }\n",
       "\n",
       "    .dataframe thead th {\n",
       "        text-align: right;\n",
       "    }\n",
       "</style>\n",
       "<table border=\"1\" class=\"dataframe\">\n",
       "  <thead>\n",
       "    <tr style=\"text-align: right;\">\n",
       "      <th></th>\n",
       "      <th>Open</th>\n",
       "      <th>High</th>\n",
       "      <th>Low</th>\n",
       "      <th>Last</th>\n",
       "      <th>Close</th>\n",
       "      <th>Total Trade Quantity</th>\n",
       "      <th>Date:day</th>\n",
       "    </tr>\n",
       "  </thead>\n",
       "  <tbody>\n",
       "    <tr>\n",
       "      <th>17</th>\n",
       "      <td>1909.00</td>\n",
       "      <td>1941.70</td>\n",
       "      <td>1872.10</td>\n",
       "      <td>1909.10</td>\n",
       "      <td>1908.95</td>\n",
       "      <td>4968201.0</td>\n",
       "      <td>27</td>\n",
       "    </tr>\n",
       "    <tr>\n",
       "      <th>11</th>\n",
       "      <td>1991.90</td>\n",
       "      <td>2002.00</td>\n",
       "      <td>1976.40</td>\n",
       "      <td>1987.90</td>\n",
       "      <td>1987.85</td>\n",
       "      <td>1768742.0</td>\n",
       "      <td>18</td>\n",
       "    </tr>\n",
       "    <tr>\n",
       "      <th>12</th>\n",
       "      <td>1984.80</td>\n",
       "      <td>1984.80</td>\n",
       "      <td>1960.05</td>\n",
       "      <td>1970.80</td>\n",
       "      <td>1968.45</td>\n",
       "      <td>2498833.0</td>\n",
       "      <td>19</td>\n",
       "    </tr>\n",
       "    <tr>\n",
       "      <th>9</th>\n",
       "      <td>1983.00</td>\n",
       "      <td>1998.95</td>\n",
       "      <td>1975.25</td>\n",
       "      <td>1989.00</td>\n",
       "      <td>1989.75</td>\n",
       "      <td>2473761.0</td>\n",
       "      <td>14</td>\n",
       "    </tr>\n",
       "    <tr>\n",
       "      <th>10</th>\n",
       "      <td>1999.00</td>\n",
       "      <td>2004.90</td>\n",
       "      <td>1985.00</td>\n",
       "      <td>1992.90</td>\n",
       "      <td>1994.30</td>\n",
       "      <td>1227921.0</td>\n",
       "      <td>17</td>\n",
       "    </tr>\n",
       "    <tr>\n",
       "      <th>7</th>\n",
       "      <td>2001.10</td>\n",
       "      <td>2022.00</td>\n",
       "      <td>1984.95</td>\n",
       "      <td>2016.50</td>\n",
       "      <td>2016.80</td>\n",
       "      <td>2219993.0</td>\n",
       "      <td>12</td>\n",
       "    </tr>\n",
       "    <tr>\n",
       "      <th>6</th>\n",
       "      <td>1970.00</td>\n",
       "      <td>2010.00</td>\n",
       "      <td>1961.00</td>\n",
       "      <td>1997.05</td>\n",
       "      <td>2000.00</td>\n",
       "      <td>2942014.0</td>\n",
       "      <td>11</td>\n",
       "    </tr>\n",
       "    <tr>\n",
       "      <th>16</th>\n",
       "      <td>1921.80</td>\n",
       "      <td>1921.80</td>\n",
       "      <td>1870.25</td>\n",
       "      <td>1892.00</td>\n",
       "      <td>1889.20</td>\n",
       "      <td>2446614.0</td>\n",
       "      <td>26</td>\n",
       "    </tr>\n",
       "    <tr>\n",
       "      <th>19</th>\n",
       "      <td>1908.00</td>\n",
       "      <td>1909.00</td>\n",
       "      <td>1886.15</td>\n",
       "      <td>1894.75</td>\n",
       "      <td>1893.05</td>\n",
       "      <td>1879740.0</td>\n",
       "      <td>31</td>\n",
       "    </tr>\n",
       "    <tr>\n",
       "      <th>5</th>\n",
       "      <td>1975.00</td>\n",
       "      <td>2011.00</td>\n",
       "      <td>1960.00</td>\n",
       "      <td>1961.00</td>\n",
       "      <td>1975.80</td>\n",
       "      <td>2010786.0</td>\n",
       "      <td>10</td>\n",
       "    </tr>\n",
       "    <tr>\n",
       "      <th>14</th>\n",
       "      <td>1948.00</td>\n",
       "      <td>1950.00</td>\n",
       "      <td>1886.55</td>\n",
       "      <td>1905.00</td>\n",
       "      <td>1895.80</td>\n",
       "      <td>3729956.0</td>\n",
       "      <td>21</td>\n",
       "    </tr>\n",
       "    <tr>\n",
       "      <th>8</th>\n",
       "      <td>2024.00</td>\n",
       "      <td>2029.70</td>\n",
       "      <td>1974.50</td>\n",
       "      <td>1981.95</td>\n",
       "      <td>1982.60</td>\n",
       "      <td>3748429.0</td>\n",
       "      <td>13</td>\n",
       "    </tr>\n",
       "    <tr>\n",
       "      <th>4</th>\n",
       "      <td>1985.05</td>\n",
       "      <td>2003.90</td>\n",
       "      <td>1973.00</td>\n",
       "      <td>1999.85</td>\n",
       "      <td>1995.20</td>\n",
       "      <td>1680420.0</td>\n",
       "      <td>7</td>\n",
       "    </tr>\n",
       "    <tr>\n",
       "      <th>18</th>\n",
       "      <td>1915.00</td>\n",
       "      <td>1920.00</td>\n",
       "      <td>1893.00</td>\n",
       "      <td>1897.00</td>\n",
       "      <td>1896.05</td>\n",
       "      <td>2239130.0</td>\n",
       "      <td>28</td>\n",
       "    </tr>\n",
       "    <tr>\n",
       "      <th>13</th>\n",
       "      <td>1953.80</td>\n",
       "      <td>1974.90</td>\n",
       "      <td>1946.00</td>\n",
       "      <td>1955.00</td>\n",
       "      <td>1954.05</td>\n",
       "      <td>1940277.0</td>\n",
       "      <td>20</td>\n",
       "    </tr>\n",
       "    <tr>\n",
       "      <th>2</th>\n",
       "      <td>2006.00</td>\n",
       "      <td>2018.00</td>\n",
       "      <td>1985.00</td>\n",
       "      <td>2003.90</td>\n",
       "      <td>2006.75</td>\n",
       "      <td>2501539.0</td>\n",
       "      <td>5</td>\n",
       "    </tr>\n",
       "    <tr>\n",
       "      <th>1</th>\n",
       "      <td>1983.00</td>\n",
       "      <td>2019.40</td>\n",
       "      <td>1971.00</td>\n",
       "      <td>2009.85</td>\n",
       "      <td>2010.85</td>\n",
       "      <td>3270615.0</td>\n",
       "      <td>4</td>\n",
       "    </tr>\n",
       "    <tr>\n",
       "      <th>15</th>\n",
       "      <td>1905.80</td>\n",
       "      <td>1938.90</td>\n",
       "      <td>1905.00</td>\n",
       "      <td>1922.00</td>\n",
       "      <td>1918.50</td>\n",
       "      <td>1864116.0</td>\n",
       "      <td>24</td>\n",
       "    </tr>\n",
       "  </tbody>\n",
       "</table>\n",
       "</div>"
      ],
      "text/plain": [
       "       Open     High      Low     Last    Close  Total Trade Quantity  \\\n",
       "17  1909.00  1941.70  1872.10  1909.10  1908.95             4968201.0   \n",
       "11  1991.90  2002.00  1976.40  1987.90  1987.85             1768742.0   \n",
       "12  1984.80  1984.80  1960.05  1970.80  1968.45             2498833.0   \n",
       "9   1983.00  1998.95  1975.25  1989.00  1989.75             2473761.0   \n",
       "10  1999.00  2004.90  1985.00  1992.90  1994.30             1227921.0   \n",
       "7   2001.10  2022.00  1984.95  2016.50  2016.80             2219993.0   \n",
       "6   1970.00  2010.00  1961.00  1997.05  2000.00             2942014.0   \n",
       "16  1921.80  1921.80  1870.25  1892.00  1889.20             2446614.0   \n",
       "19  1908.00  1909.00  1886.15  1894.75  1893.05             1879740.0   \n",
       "5   1975.00  2011.00  1960.00  1961.00  1975.80             2010786.0   \n",
       "14  1948.00  1950.00  1886.55  1905.00  1895.80             3729956.0   \n",
       "8   2024.00  2029.70  1974.50  1981.95  1982.60             3748429.0   \n",
       "4   1985.05  2003.90  1973.00  1999.85  1995.20             1680420.0   \n",
       "18  1915.00  1920.00  1893.00  1897.00  1896.05             2239130.0   \n",
       "13  1953.80  1974.90  1946.00  1955.00  1954.05             1940277.0   \n",
       "2   2006.00  2018.00  1985.00  2003.90  2006.75             2501539.0   \n",
       "1   1983.00  2019.40  1971.00  2009.85  2010.85             3270615.0   \n",
       "15  1905.80  1938.90  1905.00  1922.00  1918.50             1864116.0   \n",
       "\n",
       "    Date:day  \n",
       "17        27  \n",
       "11        18  \n",
       "12        19  \n",
       "9         14  \n",
       "10        17  \n",
       "7         12  \n",
       "6         11  \n",
       "16        26  \n",
       "19        31  \n",
       "5         10  \n",
       "14        21  \n",
       "8         13  \n",
       "4          7  \n",
       "18        28  \n",
       "13        20  \n",
       "2          5  \n",
       "1          4  \n",
       "15        24  "
      ]
     },
     "execution_count": 22,
     "metadata": {},
     "output_type": "execute_result"
    }
   ],
   "source": [
    "X_train"
   ]
  },
  {
   "cell_type": "code",
   "execution_count": 23,
   "id": "303d3756",
   "metadata": {},
   "outputs": [
    {
     "data": {
      "text/plain": [
       "pandas.core.frame.DataFrame"
      ]
     },
     "execution_count": 23,
     "metadata": {},
     "output_type": "execute_result"
    }
   ],
   "source": [
    "type(x)"
   ]
  },
  {
   "cell_type": "code",
   "execution_count": 24,
   "id": "4f04a5dd",
   "metadata": {},
   "outputs": [
    {
     "data": {
      "text/plain": [
       "[<matplotlib.lines.Line2D at 0x1d4faa90550>,\n",
       " <matplotlib.lines.Line2D at 0x1d4faa90610>,\n",
       " <matplotlib.lines.Line2D at 0x1d4faa906d0>,\n",
       " <matplotlib.lines.Line2D at 0x1d4faa90790>,\n",
       " <matplotlib.lines.Line2D at 0x1d4faa90850>,\n",
       " <matplotlib.lines.Line2D at 0x1d4faa90910>,\n",
       " <matplotlib.lines.Line2D at 0x1d4faa909d0>]"
      ]
     },
     "execution_count": 24,
     "metadata": {},
     "output_type": "execute_result"
    },
    {
     "data": {
      "image/png": "[encoded data removed]",
      "text/plain": [
       "<Figure size 432x288 with 1 Axes>"
      ]
     },
     "metadata": {
      "needs_background": "light"
     },
     "output_type": "display_data"
    }
   ],
   "source": [
    "plt.plot(x)"
   ]
  },
  {
   "cell_type": "code",
   "execution_count": 25,
   "id": "aef54736",
   "metadata": {},
   "outputs": [],
   "source": [
    " from sklearn.linear_model import LinearRegression"
   ]
  },
  {
   "cell_type": "code",
   "execution_count": 26,
   "id": "1d0256b4",
   "metadata": {},
   "outputs": [],
   "source": [
    "model = LinearRegression()"
   ]
  },
  {
   "cell_type": "markdown",
   "id": "ecdaa99b",
   "metadata": {},
   "source": [
    "model.fit(X_train,Y_train)"
   ]
  },
  {
   "cell_type": "code",
   "execution_count": 27,
   "id": "b511cf41",
   "metadata": {},
   "outputs": [
    {
     "data": {
      "text/plain": [
       "LinearRegression()"
      ]
     },
     "execution_count": 27,
     "metadata": {},
     "output_type": "execute_result"
    }
   ],
   "source": [
    "model.fit(X_train, y_train)\n"
   ]
  },
  {
   "cell_type": "code",
   "execution_count": 28,
   "id": "ce444a00",
   "metadata": {},
   "outputs": [
    {
     "data": {
      "text/plain": [
       "(18, 7)"
      ]
     },
     "execution_count": 28,
     "metadata": {},
     "output_type": "execute_result"
    }
   ],
   "source": [
    "X_train.shape"
   ]
  },
  {
   "cell_type": "code",
   "execution_count": 29,
   "id": "c901f5ba",
   "metadata": {},
   "outputs": [
    {
     "name": "stdout",
     "output_type": "stream",
     "text": [
      "99.68712595600326 %\n"
     ]
    }
   ],
   "source": [
    "r2_score = model.score(X_test,y_test)\n",
    "print(r2_score*100,'%')"
   ]
  },
  {
   "cell_type": "code",
   "execution_count": 30,
   "id": "5f3dc768",
   "metadata": {},
   "outputs": [],
   "source": [
    "import matplotlib.pyplot as plt"
   ]
  },
  {
   "cell_type": "code",
   "execution_count": 31,
   "id": "b562a8c0",
   "metadata": {},
   "outputs": [],
   "source": [
    "grap = model.predict(X_train)"
   ]
  },
  {
   "cell_type": "code",
   "execution_count": null,
   "id": "805a4b2e",
   "metadata": {},
   "outputs": [],
   "source": []
  },
  {
   "cell_type": "code",
   "execution_count": 32,
   "id": "5bc9acee",
   "metadata": {},
   "outputs": [
    {
     "data": {
      "text/plain": [
       "[<matplotlib.lines.Line2D at 0x1d4fb360d60>]"
      ]
     },
     "execution_count": 32,
     "metadata": {},
     "output_type": "execute_result"
    },
    {
     "data": {
      "image/png": "[encoded data removed]",
      "text/plain": [
       "<Figure size 432x288 with 1 Axes>"
      ]
     },
     "metadata": {
      "needs_background": "light"
     },
     "output_type": "display_data"
    }
   ],
   "source": [
    "plt.plot(grap)"
   ]
  },
  {
   "cell_type": "code",
   "execution_count": null,
   "id": "91b7d42b",
   "metadata": {},
   "outputs": [],
   "source": []
  },
  {
   "cell_type": "code",
   "execution_count": null,
   "id": "431741f2",
   "metadata": {},
   "outputs": [],
   "source": []
  },
  {
   "cell_type": "code",
   "execution_count": null,
   "id": "f24a4bf9",
   "metadata": {},
   "outputs": [],
   "source": []
  },
  {
   "cell_type": "code",
   "execution_count": null,
   "id": "daa96fc9",
   "metadata": {},
   "outputs": [],
   "source": []
  }
 ],
 "metadata": {
  "kernelspec": {
   "display_name": "Python 3",
   "language": "python",
   "name": "python3"
  },
  "language_info": {
   "codemirror_mode": {
    "name": "ipython",
    "version": 3
   },
   "file_extension": ".py",
   "mimetype": "text/x-python",
   "name": "python",
   "nbconvert_exporter": "python",
   "pygments_lexer": "ipython3",
   "version": "3.8.8"
  }
 },
 "nbformat": 4,
 "nbformat_minor": 5
}
